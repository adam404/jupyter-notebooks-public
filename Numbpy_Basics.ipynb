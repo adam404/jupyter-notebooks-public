{
  "nbformat": 4,
  "nbformat_minor": 0,
  "metadata": {
    "colab": {
      "name": "Numbpy Basics",
      "provenance": [],
      "collapsed_sections": [],
      "toc_visible": true,
      "authorship_tag": "ABX9TyNsFpun0Mt9tbU2zIZQ/6fg",
      "include_colab_link": true
    },
    "kernelspec": {
      "name": "python3",
      "display_name": "Python 3"
    }
  },
  "cells": [
    {
      "cell_type": "markdown",
      "metadata": {
        "id": "view-in-github",
        "colab_type": "text"
      },
      "source": [
        "<a href=\"https://colab.research.google.com/github/adam404/jupyter-notebooks-public/blob/main/Numbpy_Basics.ipynb\" target=\"_parent\"><img src=\"https://colab.research.google.com/assets/colab-badge.svg\" alt=\"Open In Colab\"/></a>"
      ]
    },
    {
      "cell_type": "markdown",
      "metadata": {
        "id": "F64RKdrt7KJy"
      },
      "source": [
        "# Numbpy Basics\n",
        "\n",
        "I am trying to teach myself the basics I need to do machine learning for stock analysys and hopefully automated trading\n",
        "\n",
        "https://numpy.org/doc/stable/user/quickstart.html\n",
        "\n"
      ]
    },
    {
      "cell_type": "markdown",
      "metadata": {
        "id": "3B3Cs83R8F1z"
      },
      "source": [
        "# New Section"
      ]
    },
    {
      "cell_type": "code",
      "metadata": {
        "colab": {
          "base_uri": "https://localhost:8080/"
        },
        "id": "rgIF2naf6not",
        "outputId": "e81d1510-cd9f-4fa0-90b3-b46dcc09fe71"
      },
      "source": [
        "import numpy as np\n",
        "a = np.arange(15).reshape(3,5)\n",
        "a"
      ],
      "execution_count": 3,
      "outputs": [
        {
          "output_type": "execute_result",
          "data": {
            "text/plain": [
              "array([[ 0,  1,  2,  3,  4],\n",
              "       [ 5,  6,  7,  8,  9],\n",
              "       [10, 11, 12, 13, 14]])"
            ]
          },
          "metadata": {
            "tags": []
          },
          "execution_count": 3
        }
      ]
    },
    {
      "cell_type": "markdown",
      "metadata": {
        "id": "MWL3g1lw7KkV"
      },
      "source": [
        "# New Section"
      ]
    }
  ]
}
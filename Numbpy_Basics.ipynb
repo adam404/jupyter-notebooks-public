{
  "nbformat": 4,
  "nbformat_minor": 0,
  "metadata": {
    "colab": {
      "name": "Numbpy Basics",
      "provenance": [],
      "collapsed_sections": [],
      "toc_visible": true,
      "authorship_tag": "ABX9TyM42wuW6tqfOv5YNe80INLl",
      "include_colab_link": true
    },
    "kernelspec": {
      "name": "python3",
      "display_name": "Python 3"
    }
  },
  "cells": [
    {
      "cell_type": "markdown",
      "metadata": {
        "id": "view-in-github",
        "colab_type": "text"
      },
      "source": [
        "<a href=\"https://colab.research.google.com/github/adam404/jupyter-notebooks-public/blob/main/Numbpy_Basics.ipynb\" target=\"_parent\"><img src=\"https://colab.research.google.com/assets/colab-badge.svg\" alt=\"Open In Colab\"/></a>"
      ]
    },
    {
      "cell_type": "markdown",
      "metadata": {
        "id": "F64RKdrt7KJy"
      },
      "source": [
        "# Numbpy Basics\n",
        "\n",
        "I am trying to teach myself the basics I need to do machine learning for stock analysys and hopefully automated trading\n",
        "\n",
        "https://numpy.org/doc/stable/user/quickstart.html\n",
        "\n"
      ]
    },
    {
      "cell_type": "markdown",
      "metadata": {
        "id": "3B3Cs83R8F1z"
      },
      "source": [
        "# Initialization\n",
        "\n",
        "Initialize array to an incremented set "
      ]
    },
    {
      "cell_type": "code",
      "metadata": {
        "colab": {
          "base_uri": "https://localhost:8080/"
        },
        "id": "rgIF2naf6not",
        "outputId": "fc05f71d-9278-4206-aa7e-58136f1954f6"
      },
      "source": [
        "import numpy as np\n",
        "a = np.arange(15)\n",
        "a"
      ],
      "execution_count": null,
      "outputs": [
        {
          "output_type": "execute_result",
          "data": {
            "text/plain": [
              "array([ 0,  1,  2,  3,  4,  5,  6,  7,  8,  9, 10, 11, 12, 13, 14])"
            ]
          },
          "metadata": {
            "tags": []
          },
          "execution_count": 4
        }
      ]
    },
    {
      "cell_type": "markdown",
      "metadata": {
        "id": "nAYf-eoRdOIH"
      },
      "source": [
        "Creation from an array"
      ]
    },
    {
      "cell_type": "code",
      "metadata": {
        "colab": {
          "base_uri": "https://localhost:8080/"
        },
        "id": "VD4h6HpCdVL1",
        "outputId": "4dc9d618-0299-4a6e-8341-8e5963ba79ae"
      },
      "source": [
        ">>> import numpy as np\n",
        ">>> a = np.array([2,3,4])\n",
        ">>> a"
      ],
      "execution_count": 18,
      "outputs": [
        {
          "output_type": "execute_result",
          "data": {
            "text/plain": [
              "array([2, 3, 4])"
            ]
          },
          "metadata": {
            "tags": []
          },
          "execution_count": 18
        }
      ]
    },
    {
      "cell_type": "markdown",
      "metadata": {
        "id": "MWL3g1lw7KkV"
      },
      "source": [
        "# Reshaping\n",
        "\n",
        "Change data into rows (3), columns (5)"
      ]
    },
    {
      "cell_type": "code",
      "metadata": {
        "colab": {
          "base_uri": "https://localhost:8080/"
        },
        "id": "hrjJAPKj8iRV",
        "outputId": "1c5ac406-9a3e-4115-9bb6-d97d98976e0c"
      },
      "source": [
        "import numpy as np\n",
        "a = np.arange(15).reshape(3,5)\n",
        "a"
      ],
      "execution_count": null,
      "outputs": [
        {
          "output_type": "execute_result",
          "data": {
            "text/plain": [
              "array([[ 0,  1,  2,  3,  4],\n",
              "       [ 5,  6,  7,  8,  9],\n",
              "       [10, 11, 12, 13, 14]])"
            ]
          },
          "metadata": {
            "tags": []
          },
          "execution_count": 5
        }
      ]
    },
    {
      "cell_type": "markdown",
      "metadata": {
        "id": "PL8KpWW09Sbw"
      },
      "source": [
        "# Inspection\n",
        "\n",
        "Get number of dimensions"
      ]
    },
    {
      "cell_type": "code",
      "metadata": {
        "colab": {
          "base_uri": "https://localhost:8080/"
        },
        "id": "FHZq781Z9a9u",
        "outputId": "7eac38c8-39c2-4f91-a9fc-ebd210eb2ffb"
      },
      "source": [
        "import numpy as np\n",
        "a = np.arange(15)\n",
        "a.ndim"
      ],
      "execution_count": 13,
      "outputs": [
        {
          "output_type": "execute_result",
          "data": {
            "text/plain": [
              "1"
            ]
          },
          "metadata": {
            "tags": []
          },
          "execution_count": 13
        }
      ]
    },
    {
      "cell_type": "markdown",
      "metadata": {
        "id": "P3TgI91NZFIz"
      },
      "source": [
        "\n",
        "Get number of elements"
      ]
    },
    {
      "cell_type": "code",
      "metadata": {
        "colab": {
          "base_uri": "https://localhost:8080/"
        },
        "id": "8FxZNxJEZI1M",
        "outputId": "1f11320b-64ad-4ffc-89da-8bb656f8d6b4"
      },
      "source": [
        "import numpy as np\n",
        "a = np.arange(15)\n",
        "a.size"
      ],
      "execution_count": 11,
      "outputs": [
        {
          "output_type": "execute_result",
          "data": {
            "text/plain": [
              "15"
            ]
          },
          "metadata": {
            "tags": []
          },
          "execution_count": 11
        }
      ]
    },
    {
      "cell_type": "markdown",
      "metadata": {
        "id": "2QFO4QGhZhtx"
      },
      "source": [
        "\n",
        "Get shape"
      ]
    },
    {
      "cell_type": "code",
      "metadata": {
        "colab": {
          "base_uri": "https://localhost:8080/"
        },
        "id": "l-pulSP9Znx1",
        "outputId": "85351946-cf48-4ece-9c35-b7fae6edb593"
      },
      "source": [
        "import numpy as np\n",
        "a = np.arange(15).reshape(3,5)\n",
        "a.shape"
      ],
      "execution_count": 15,
      "outputs": [
        {
          "output_type": "execute_result",
          "data": {
            "text/plain": [
              "(3, 5)"
            ]
          },
          "metadata": {
            "tags": []
          },
          "execution_count": 15
        }
      ]
    },
    {
      "cell_type": "markdown",
      "metadata": {
        "id": "ISxSZq7OaQs4"
      },
      "source": [
        "Get type"
      ]
    },
    {
      "cell_type": "code",
      "metadata": {
        "colab": {
          "base_uri": "https://localhost:8080/"
        },
        "id": "GFmuIbouaXLw",
        "outputId": "975f04e2-333e-4973-d043-18290fb8242d"
      },
      "source": [
        "import numpy as np\n",
        "a = np.arange(15).reshape(3,5)\n",
        "a.dtype"
      ],
      "execution_count": 16,
      "outputs": [
        {
          "output_type": "execute_result",
          "data": {
            "text/plain": [
              "dtype('int64')"
            ]
          },
          "metadata": {
            "tags": []
          },
          "execution_count": 16
        }
      ]
    }
  ]
}